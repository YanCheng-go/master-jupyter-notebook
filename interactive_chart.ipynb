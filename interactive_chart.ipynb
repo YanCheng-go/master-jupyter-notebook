{
  "nbformat": 4,
  "nbformat_minor": 0,
  "metadata": {
    "colab": {
      "name": "interactive-chart.ipynb",
      "provenance": [],
      "collapsed_sections": [],
      "toc_visible": true,
      "authorship_tag": "ABX9TyOW203Zk+L8IrUkzrXRTUl7",
      "include_colab_link": true
    },
    "kernelspec": {
      "name": "python3",
      "display_name": "Python 3"
    }
  },
  "cells": [
    {
      "cell_type": "markdown",
      "metadata": {
        "id": "view-in-github",
        "colab_type": "text"
      },
      "source": [
        "<a href=\"https://colab.research.google.com/github/YanCheng-go/master-jupyter-notebook/blob/interactive-chart/interactive_chart.ipynb\" target=\"_parent\"><img src=\"https://colab.research.google.com/assets/colab-badge.svg\" alt=\"Open In Colab\"/></a>"
      ]
    },
    {
      "cell_type": "markdown",
      "metadata": {
        "id": "-lPrA-lMPdWs"
      },
      "source": [
        "# Interactive chart powered by plotly"
      ]
    },
    {
      "cell_type": "markdown",
      "metadata": {
        "id": "nWW3rsTPPk1c"
      },
      "source": [
        "## Setup environment\r\n",
        "\r\n",
        "\r\n",
        "\r\n"
      ]
    },
    {
      "cell_type": "markdown",
      "metadata": {
        "id": "h5OJuRL4Ws2g"
      },
      "source": [
        "HTML render setup"
      ]
    },
    {
      "cell_type": "code",
      "metadata": {
        "id": "PGeE6iMsPr1F"
      },
      "source": [
        "# Display interactive plots powered by plotly\r\n",
        "import  IPython # https://ipython.org/#\r\n",
        "def configure_plotly_browser_state():\r\n",
        "  display(IPython.core.display.HTML('''\r\n",
        "        <script src='/static/components/requirejs/require.js'></script>\r\n",
        "        <script>\r\n",
        "          requirejs.config({\r\n",
        "            paths: {\r\n",
        "              base: '/static/base',\r\n",
        "              plotly: 'https://cdn.plot.ly/plotly-1.5.1.min.js?noext', \r\n",
        "            },\r\n",
        "          });\r\n",
        "        </script>\r\n",
        "  '''))"
      ],
      "execution_count": 1,
      "outputs": []
    },
    {
      "cell_type": "code",
      "metadata": {
        "id": "L0qUPTJpUIxH"
      },
      "source": [
        "# Hide input/code\r\n",
        "from IPython.display import HTML\r\n",
        "import random \r\n",
        "from plotly.offline import download_plotlyjs, init_notebook_mode, iplot\r\n",
        "init_notebook_mode(connected=True)\r\n",
        "\r\n",
        "def hide_toggle(for_next=False):\r\n",
        "  this_cell = \"\"\"$('div.cell.code_cell.rendered.selected')\"\"\"\r\n",
        "    next_cell = this_cell + '.next()'\r\n",
        "\r\n",
        "    toggle_text = 'Toggle show/hide'  # text shown on toggle link\r\n",
        "    target_cell = this_cell  # target cell to control with toggle\r\n",
        "    js_hide_current = ''  # bit of JS to permanently hide code in current cell (only when toggling next cell)\r\n",
        "\r\n",
        "    if for_next:\r\n",
        "        target_cell = next_cell\r\n",
        "        toggle_text += ' next cell'\r\n",
        "        js_hide_current = this_cell + '.find(\"div.input\").hide();'\r\n",
        "\r\n",
        "    js_f_name = 'code_toggle_{}'.format(str(random.randint(1,2**64)))\r\n",
        "\r\n",
        "    html = \"\"\"\r\n",
        "        <script>\r\n",
        "            function {f_name}() {{\r\n",
        "                {cell_selector}.find('div.input').toggle();\r\n",
        "            }}\r\n",
        "\r\n",
        "            {js_hide_current}\r\n",
        "        </script>\r\n",
        "\r\n",
        "        <a href=\"javascript:{f_name}()\">{toggle_text}</a>\r\n",
        "    \"\"\".format(\r\n",
        "        f_name=js_f_name,\r\n",
        "        cell_selector=target_cell,\r\n",
        "        js_hide_current=js_hide_current, \r\n",
        "        toggle_text=toggle_text\r\n",
        "    )\r\n",
        "\r\n",
        "    return HTML(html)"
      ],
      "execution_count": null,
      "outputs": []
    },
    {
      "cell_type": "markdown",
      "metadata": {
        "id": "LRpMPiYWWxkT"
      },
      "source": [
        "Get data from github"
      ]
    },
    {
      "cell_type": "code",
      "metadata": {
        "colab": {
          "base_uri": "https://localhost:8080/"
        },
        "id": "Mh7Y8RH4QXid",
        "outputId": "2d98dfb3-a783-4ac1-bab4-93fd2b637294"
      },
      "source": [
        "! git clone https://github.com/YanCheng-go/master-jupyter-notebook.git"
      ],
      "execution_count": 2,
      "outputs": [
        {
          "output_type": "stream",
          "text": [
            "Cloning into 'master-jupyter-notebook'...\n",
            "remote: Enumerating objects: 18, done.\u001b[K\n",
            "remote: Counting objects: 100% (18/18), done.\u001b[K\n",
            "remote: Compressing objects: 100% (16/16), done.\u001b[K\n",
            "remote: Total 18 (delta 1), reused 14 (delta 0), pack-reused 0\u001b[K\n",
            "Unpacking objects: 100% (18/18), done.\n"
          ],
          "name": "stdout"
        }
      ]
    },
    {
      "cell_type": "markdown",
      "metadata": {
        "id": "yntY1lW0W3ON"
      },
      "source": [
        "Install additional python libraries"
      ]
    },
    {
      "cell_type": "code",
      "metadata": {
        "id": "L9xH6hI0Qddd"
      },
      "source": [
        "# ! pip install [PACKAGE_NAME]"
      ],
      "execution_count": null,
      "outputs": []
    },
    {
      "cell_type": "markdown",
      "metadata": {
        "id": "9qeyX1bragHz"
      },
      "source": [
        "## Data pre-processing"
      ]
    },
    {
      "cell_type": "markdown",
      "metadata": {
        "id": "_78fpMeZW-yW"
      },
      "source": [
        "Necessary imports"
      ]
    },
    {
      "cell_type": "code",
      "metadata": {
        "id": "i7wSLFeOWmvs"
      },
      "source": [
        "import pandas as pd \r\n",
        "import numpy as np\r\n",
        "import os "
      ],
      "execution_count": 4,
      "outputs": []
    },
    {
      "cell_type": "markdown",
      "metadata": {
        "id": "xcEfSXJ3YCDH"
      },
      "source": [
        "Pre-settings"
      ]
    },
    {
      "cell_type": "code",
      "metadata": {
        "id": "MuO3u_jKW9D8"
      },
      "source": [
        "EMISSION_PATH = '/content/master-jupyter-notebook/data/china_emission.xlsx'\r\n",
        "SINK_PATH = '/content/master-jupyter-notebook/data/省级碳汇和生态元数据.xlsx'\r\n",
        "PP_PATH = '/content/master-jupyter-notebook/data/china_stats_gov_provincial_data_master.xlsx'"
      ],
      "execution_count": 7,
      "outputs": []
    },
    {
      "cell_type": "markdown",
      "metadata": {
        "id": "D9n3gNPfYJgN"
      },
      "source": [
        "Read datasets"
      ]
    },
    {
      "cell_type": "code",
      "metadata": {
        "colab": {
          "base_uri": "https://localhost:8080/",
          "height": 411
        },
        "id": "2vsOFyoPYjq8",
        "outputId": "42349bba-0af2-49e0-9be5-a5bda0b3af50"
      },
      "source": [
        "# Read carbon emission \r\n",
        "df_emission = pd.read_excel(EMISSION_PATH, 'master')\r\n",
        "df_emission.head(5)"
      ],
      "execution_count": 16,
      "outputs": [
        {
          "output_type": "execute_result",
          "data": {
            "text/html": [
              "<div>\n",
              "<style scoped>\n",
              "    .dataframe tbody tr th:only-of-type {\n",
              "        vertical-align: middle;\n",
              "    }\n",
              "\n",
              "    .dataframe tbody tr th {\n",
              "        vertical-align: top;\n",
              "    }\n",
              "\n",
              "    .dataframe thead th {\n",
              "        text-align: right;\n",
              "    }\n",
              "</style>\n",
              "<table border=\"1\" class=\"dataframe\">\n",
              "  <thead>\n",
              "    <tr style=\"text-align: right;\">\n",
              "      <th></th>\n",
              "      <th>uid</th>\n",
              "      <th>year</th>\n",
              "      <th>type</th>\n",
              "      <th>北京市</th>\n",
              "      <th>天津市</th>\n",
              "      <th>河北省</th>\n",
              "      <th>山西省</th>\n",
              "      <th>内蒙古自治区</th>\n",
              "      <th>辽宁省</th>\n",
              "      <th>吉林省</th>\n",
              "      <th>黑龙江省</th>\n",
              "      <th>上海市</th>\n",
              "      <th>江苏省</th>\n",
              "      <th>浙江省</th>\n",
              "      <th>安徽省</th>\n",
              "      <th>福建省</th>\n",
              "      <th>江西省</th>\n",
              "      <th>山东省</th>\n",
              "      <th>河南省</th>\n",
              "      <th>湖北省</th>\n",
              "      <th>湖南省</th>\n",
              "      <th>广东省</th>\n",
              "      <th>广西壮族自治区</th>\n",
              "      <th>海南省</th>\n",
              "      <th>重庆市</th>\n",
              "      <th>四川省</th>\n",
              "      <th>贵州省</th>\n",
              "      <th>云南省</th>\n",
              "      <th>陕西省</th>\n",
              "      <th>甘肃省</th>\n",
              "      <th>青海省</th>\n",
              "      <th>宁夏回族自治区</th>\n",
              "      <th>新疆维吾尔自治区</th>\n",
              "    </tr>\n",
              "  </thead>\n",
              "  <tbody>\n",
              "    <tr>\n",
              "      <th>0</th>\n",
              "      <td>1</td>\n",
              "      <td>1995</td>\n",
              "      <td>总排放（万吨CO2）</td>\n",
              "      <td>9232.17375</td>\n",
              "      <td>7422.71035</td>\n",
              "      <td>22646.58000</td>\n",
              "      <td>15815.08450</td>\n",
              "      <td>8845.96750</td>\n",
              "      <td>25562.87545</td>\n",
              "      <td>11237.52620</td>\n",
              "      <td>15788.73080</td>\n",
              "      <td>12979.47660</td>\n",
              "      <td>23190.70320</td>\n",
              "      <td>12719.73796</td>\n",
              "      <td>10713.99430</td>\n",
              "      <td>5117.52470</td>\n",
              "      <td>6315.67780</td>\n",
              "      <td>22365.40104</td>\n",
              "      <td>16153.71750</td>\n",
              "      <td>14367.13920</td>\n",
              "      <td>13183.06358</td>\n",
              "      <td>21859.12400</td>\n",
              "      <td>5960.59910</td>\n",
              "      <td>842.56480</td>\n",
              "      <td>0.00000</td>\n",
              "      <td>17212.93058</td>\n",
              "      <td>7201.9554</td>\n",
              "      <td>5358.06060</td>\n",
              "      <td>7770.87608</td>\n",
              "      <td>6334.58952</td>\n",
              "      <td>1401.57520</td>\n",
              "      <td>1850.94660</td>\n",
              "      <td>7349.82850</td>\n",
              "    </tr>\n",
              "    <tr>\n",
              "      <th>1</th>\n",
              "      <td>2</td>\n",
              "      <td>1996</td>\n",
              "      <td>总排放（万吨CO2）</td>\n",
              "      <td>10032.30430</td>\n",
              "      <td>7088.99020</td>\n",
              "      <td>23298.03190</td>\n",
              "      <td>16342.31270</td>\n",
              "      <td>9632.59180</td>\n",
              "      <td>25860.11260</td>\n",
              "      <td>12037.37370</td>\n",
              "      <td>16000.22420</td>\n",
              "      <td>13924.86700</td>\n",
              "      <td>23686.83030</td>\n",
              "      <td>13996.29566</td>\n",
              "      <td>11534.36120</td>\n",
              "      <td>5778.55830</td>\n",
              "      <td>6274.75418</td>\n",
              "      <td>22744.40172</td>\n",
              "      <td>16542.88830</td>\n",
              "      <td>12717.69010</td>\n",
              "      <td>13466.55088</td>\n",
              "      <td>23539.91940</td>\n",
              "      <td>6032.34010</td>\n",
              "      <td>923.01860</td>\n",
              "      <td>0.00000</td>\n",
              "      <td>17203.35730</td>\n",
              "      <td>7691.3252</td>\n",
              "      <td>5785.00400</td>\n",
              "      <td>4303.84400</td>\n",
              "      <td>5928.05750</td>\n",
              "      <td>1343.37116</td>\n",
              "      <td>1944.77130</td>\n",
              "      <td>8478.65150</td>\n",
              "    </tr>\n",
              "    <tr>\n",
              "      <th>2</th>\n",
              "      <td>3</td>\n",
              "      <td>1997</td>\n",
              "      <td>总排放（万吨CO2）</td>\n",
              "      <td>8137.48810</td>\n",
              "      <td>5707.96460</td>\n",
              "      <td>23131.88610</td>\n",
              "      <td>15436.10910</td>\n",
              "      <td>10197.03130</td>\n",
              "      <td>20382.09015</td>\n",
              "      <td>10618.72430</td>\n",
              "      <td>13899.14300</td>\n",
              "      <td>10837.16380</td>\n",
              "      <td>19687.17184</td>\n",
              "      <td>12009.66652</td>\n",
              "      <td>11021.49950</td>\n",
              "      <td>4341.60270</td>\n",
              "      <td>5345.22186</td>\n",
              "      <td>18630.92250</td>\n",
              "      <td>15573.42484</td>\n",
              "      <td>13960.00170</td>\n",
              "      <td>10190.87874</td>\n",
              "      <td>16634.12980</td>\n",
              "      <td>5228.54640</td>\n",
              "      <td>591.08300</td>\n",
              "      <td>5839.51238</td>\n",
              "      <td>12431.81980</td>\n",
              "      <td>6752.4513</td>\n",
              "      <td>5768.34740</td>\n",
              "      <td>6772.73130</td>\n",
              "      <td>5163.95592</td>\n",
              "      <td>1249.61128</td>\n",
              "      <td>1765.06630</td>\n",
              "      <td>6650.66930</td>\n",
              "    </tr>\n",
              "    <tr>\n",
              "      <th>3</th>\n",
              "      <td>4</td>\n",
              "      <td>1998</td>\n",
              "      <td>总排放（万吨CO2）</td>\n",
              "      <td>8412.40758</td>\n",
              "      <td>5722.20860</td>\n",
              "      <td>24381.18777</td>\n",
              "      <td>15324.20752</td>\n",
              "      <td>9691.40861</td>\n",
              "      <td>20220.03964</td>\n",
              "      <td>9127.91791</td>\n",
              "      <td>14046.83351</td>\n",
              "      <td>11059.85559</td>\n",
              "      <td>19879.93016</td>\n",
              "      <td>11722.33285</td>\n",
              "      <td>11427.43975</td>\n",
              "      <td>4727.91047</td>\n",
              "      <td>5237.66083</td>\n",
              "      <td>20756.86490</td>\n",
              "      <td>15486.01454</td>\n",
              "      <td>13789.51265</td>\n",
              "      <td>10363.65492</td>\n",
              "      <td>18510.77439</td>\n",
              "      <td>5453.39338</td>\n",
              "      <td>1375.61257</td>\n",
              "      <td>6373.69645</td>\n",
              "      <td>12403.68300</td>\n",
              "      <td>10601.1472</td>\n",
              "      <td>6678.09128</td>\n",
              "      <td>6739.13654</td>\n",
              "      <td>5176.09172</td>\n",
              "      <td>1213.23190</td>\n",
              "      <td>1845.25895</td>\n",
              "      <td>6832.31376</td>\n",
              "    </tr>\n",
              "    <tr>\n",
              "      <th>4</th>\n",
              "      <td>5</td>\n",
              "      <td>1999</td>\n",
              "      <td>总排放（万吨CO2）</td>\n",
              "      <td>8819.74090</td>\n",
              "      <td>5917.96588</td>\n",
              "      <td>22881.64970</td>\n",
              "      <td>15107.01609</td>\n",
              "      <td>10163.57399</td>\n",
              "      <td>20147.52592</td>\n",
              "      <td>9254.90345</td>\n",
              "      <td>12955.23442</td>\n",
              "      <td>11808.22980</td>\n",
              "      <td>19165.32197</td>\n",
              "      <td>12105.78146</td>\n",
              "      <td>11671.79113</td>\n",
              "      <td>5895.35490</td>\n",
              "      <td>4917.76743</td>\n",
              "      <td>20727.79550</td>\n",
              "      <td>15492.82792</td>\n",
              "      <td>14126.52519</td>\n",
              "      <td>8317.16427</td>\n",
              "      <td>18479.13318</td>\n",
              "      <td>5517.40038</td>\n",
              "      <td>776.70920</td>\n",
              "      <td>6988.37988</td>\n",
              "      <td>10826.04430</td>\n",
              "      <td>8334.9351</td>\n",
              "      <td>5342.98356</td>\n",
              "      <td>5911.43233</td>\n",
              "      <td>5342.93854</td>\n",
              "      <td>1440.12580</td>\n",
              "      <td>1844.22232</td>\n",
              "      <td>6676.88178</td>\n",
              "    </tr>\n",
              "  </tbody>\n",
              "</table>\n",
              "</div>"
            ],
            "text/plain": [
              "   uid  year        type  ...         青海省     宁夏回族自治区    新疆维吾尔自治区\n",
              "0    1  1995  总排放（万吨CO2）  ...  1401.57520  1850.94660  7349.82850\n",
              "1    2  1996  总排放（万吨CO2）  ...  1343.37116  1944.77130  8478.65150\n",
              "2    3  1997  总排放（万吨CO2）  ...  1249.61128  1765.06630  6650.66930\n",
              "3    4  1998  总排放（万吨CO2）  ...  1213.23190  1845.25895  6832.31376\n",
              "4    5  1999  总排放（万吨CO2）  ...  1440.12580  1844.22232  6676.88178\n",
              "\n",
              "[5 rows x 33 columns]"
            ]
          },
          "metadata": {
            "tags": []
          },
          "execution_count": 16
        }
      ]
    },
    {
      "cell_type": "code",
      "metadata": {
        "id": "i-jGJw1McWA4"
      },
      "source": [
        "# Data overview"
      ],
      "execution_count": 21,
      "outputs": []
    },
    {
      "cell_type": "code",
      "metadata": {
        "colab": {
          "base_uri": "https://localhost:8080/",
          "height": 360
        },
        "id": "I2_1IZX6YLc7",
        "outputId": "ca40b809-8417-432e-f936-f5d1264e6c1b"
      },
      "source": [
        "# Read carbon sink \r\n",
        "df_sink = pd.read_excel(SINK_PATH, '碳汇')\r\n",
        "df_sink.head(5)"
      ],
      "execution_count": 17,
      "outputs": [
        {
          "output_type": "execute_result",
          "data": {
            "text/html": [
              "<div>\n",
              "<style scoped>\n",
              "    .dataframe tbody tr th:only-of-type {\n",
              "        vertical-align: middle;\n",
              "    }\n",
              "\n",
              "    .dataframe tbody tr th {\n",
              "        vertical-align: top;\n",
              "    }\n",
              "\n",
              "    .dataframe thead th {\n",
              "        text-align: right;\n",
              "    }\n",
              "</style>\n",
              "<table border=\"1\" class=\"dataframe\">\n",
              "  <thead>\n",
              "    <tr style=\"text-align: right;\">\n",
              "      <th></th>\n",
              "      <th>单位：百万吨</th>\n",
              "      <th>2000</th>\n",
              "      <th>2001</th>\n",
              "      <th>2002</th>\n",
              "      <th>2003</th>\n",
              "      <th>2004</th>\n",
              "      <th>2005</th>\n",
              "      <th>2006</th>\n",
              "      <th>2007</th>\n",
              "      <th>2008</th>\n",
              "      <th>2009</th>\n",
              "      <th>2010</th>\n",
              "      <th>2011</th>\n",
              "      <th>2012</th>\n",
              "      <th>2013</th>\n",
              "      <th>2014</th>\n",
              "      <th>2015</th>\n",
              "      <th>2016</th>\n",
              "      <th>2017</th>\n",
              "    </tr>\n",
              "  </thead>\n",
              "  <tbody>\n",
              "    <tr>\n",
              "      <th>0</th>\n",
              "      <td>安徽省</td>\n",
              "      <td>204.667850</td>\n",
              "      <td>215.977964</td>\n",
              "      <td>241.682294</td>\n",
              "      <td>223.649202</td>\n",
              "      <td>239.597984</td>\n",
              "      <td>217.694743</td>\n",
              "      <td>224.279519</td>\n",
              "      <td>246.879904</td>\n",
              "      <td>245.623221</td>\n",
              "      <td>233.326911</td>\n",
              "      <td>238.991776</td>\n",
              "      <td>238.939043</td>\n",
              "      <td>239.935451</td>\n",
              "      <td>236.924110</td>\n",
              "      <td>272.020155</td>\n",
              "      <td>266.750790</td>\n",
              "      <td>242.233829</td>\n",
              "      <td>241.945430</td>\n",
              "    </tr>\n",
              "    <tr>\n",
              "      <th>1</th>\n",
              "      <td>北京市</td>\n",
              "      <td>13.702960</td>\n",
              "      <td>12.839630</td>\n",
              "      <td>16.206965</td>\n",
              "      <td>18.008397</td>\n",
              "      <td>22.820391</td>\n",
              "      <td>21.160457</td>\n",
              "      <td>18.913925</td>\n",
              "      <td>14.770366</td>\n",
              "      <td>23.621154</td>\n",
              "      <td>21.420270</td>\n",
              "      <td>19.607264</td>\n",
              "      <td>22.501105</td>\n",
              "      <td>24.193871</td>\n",
              "      <td>23.767708</td>\n",
              "      <td>20.210609</td>\n",
              "      <td>24.735049</td>\n",
              "      <td>25.676870</td>\n",
              "      <td>24.215797</td>\n",
              "    </tr>\n",
              "    <tr>\n",
              "      <th>2</th>\n",
              "      <td>福建省</td>\n",
              "      <td>344.834239</td>\n",
              "      <td>394.308441</td>\n",
              "      <td>373.604082</td>\n",
              "      <td>399.514912</td>\n",
              "      <td>394.775683</td>\n",
              "      <td>355.779398</td>\n",
              "      <td>352.136434</td>\n",
              "      <td>378.271935</td>\n",
              "      <td>369.438291</td>\n",
              "      <td>381.082580</td>\n",
              "      <td>347.338504</td>\n",
              "      <td>352.080155</td>\n",
              "      <td>371.099552</td>\n",
              "      <td>376.125217</td>\n",
              "      <td>360.337969</td>\n",
              "      <td>354.052405</td>\n",
              "      <td>343.057907</td>\n",
              "      <td>375.958019</td>\n",
              "    </tr>\n",
              "    <tr>\n",
              "      <th>3</th>\n",
              "      <td>甘肃省</td>\n",
              "      <td>295.430100</td>\n",
              "      <td>297.628730</td>\n",
              "      <td>356.755507</td>\n",
              "      <td>344.822916</td>\n",
              "      <td>346.810243</td>\n",
              "      <td>349.886597</td>\n",
              "      <td>356.312505</td>\n",
              "      <td>368.396633</td>\n",
              "      <td>377.100370</td>\n",
              "      <td>364.663014</td>\n",
              "      <td>371.545757</td>\n",
              "      <td>364.071917</td>\n",
              "      <td>401.270704</td>\n",
              "      <td>428.748318</td>\n",
              "      <td>412.225363</td>\n",
              "      <td>415.782379</td>\n",
              "      <td>406.249508</td>\n",
              "      <td>410.115291</td>\n",
              "    </tr>\n",
              "    <tr>\n",
              "      <th>4</th>\n",
              "      <td>广东省</td>\n",
              "      <td>539.226111</td>\n",
              "      <td>564.038447</td>\n",
              "      <td>555.618718</td>\n",
              "      <td>593.687547</td>\n",
              "      <td>559.370503</td>\n",
              "      <td>518.508188</td>\n",
              "      <td>525.720565</td>\n",
              "      <td>560.030584</td>\n",
              "      <td>544.596837</td>\n",
              "      <td>565.082789</td>\n",
              "      <td>550.651026</td>\n",
              "      <td>551.895392</td>\n",
              "      <td>541.963601</td>\n",
              "      <td>571.246149</td>\n",
              "      <td>526.107256</td>\n",
              "      <td>558.956346</td>\n",
              "      <td>550.391027</td>\n",
              "      <td>578.673605</td>\n",
              "    </tr>\n",
              "  </tbody>\n",
              "</table>\n",
              "</div>"
            ],
            "text/plain": [
              "  单位：百万吨        2000        2001  ...        2015        2016        2017\n",
              "0    安徽省  204.667850  215.977964  ...  266.750790  242.233829  241.945430\n",
              "1    北京市   13.702960   12.839630  ...   24.735049   25.676870   24.215797\n",
              "2    福建省  344.834239  394.308441  ...  354.052405  343.057907  375.958019\n",
              "3    甘肃省  295.430100  297.628730  ...  415.782379  406.249508  410.115291\n",
              "4    广东省  539.226111  564.038447  ...  558.956346  550.391027  578.673605\n",
              "\n",
              "[5 rows x 19 columns]"
            ]
          },
          "metadata": {
            "tags": []
          },
          "execution_count": 17
        }
      ]
    },
    {
      "cell_type": "code",
      "metadata": {
        "id": "AAHbre6GcbFb"
      },
      "source": [
        "# Data overview"
      ],
      "execution_count": null,
      "outputs": []
    },
    {
      "cell_type": "code",
      "metadata": {
        "colab": {
          "base_uri": "https://localhost:8080/",
          "height": 870
        },
        "id": "hWmY6QLXYpbH",
        "outputId": "7f299cf2-824d-4f32-83ba-3110e459ea31"
      },
      "source": [
        "# Read social-economic data\r\n",
        "df_PP = pd.read_excel(PP_PATH)\r\n",
        "df_PP.head(5)"
      ],
      "execution_count": 18,
      "outputs": [
        {
          "output_type": "execute_result",
          "data": {
            "text/html": [
              "<div>\n",
              "<style scoped>\n",
              "    .dataframe tbody tr th:only-of-type {\n",
              "        vertical-align: middle;\n",
              "    }\n",
              "\n",
              "    .dataframe tbody tr th {\n",
              "        vertical-align: top;\n",
              "    }\n",
              "\n",
              "    .dataframe thead th {\n",
              "        text-align: right;\n",
              "    }\n",
              "</style>\n",
              "<table border=\"1\" class=\"dataframe\">\n",
              "  <thead>\n",
              "    <tr style=\"text-align: right;\">\n",
              "      <th></th>\n",
              "      <th>uid</th>\n",
              "      <th>lv1</th>\n",
              "      <th>lv2</th>\n",
              "      <th>lv3</th>\n",
              "      <th>lv4</th>\n",
              "      <th>year</th>\n",
              "      <th>北京市</th>\n",
              "      <th>天津市</th>\n",
              "      <th>河北省</th>\n",
              "      <th>山西省</th>\n",
              "      <th>内蒙古自治区</th>\n",
              "      <th>辽宁省</th>\n",
              "      <th>吉林省</th>\n",
              "      <th>黑龙江省</th>\n",
              "      <th>上海市</th>\n",
              "      <th>江苏省</th>\n",
              "      <th>浙江省</th>\n",
              "      <th>安徽省</th>\n",
              "      <th>福建省</th>\n",
              "      <th>江西省</th>\n",
              "      <th>山东省</th>\n",
              "      <th>河南省</th>\n",
              "      <th>湖北省</th>\n",
              "      <th>湖南省</th>\n",
              "      <th>广东省</th>\n",
              "      <th>广西壮族自治区</th>\n",
              "      <th>海南省</th>\n",
              "      <th>重庆市</th>\n",
              "      <th>四川省</th>\n",
              "      <th>贵州省</th>\n",
              "      <th>云南省</th>\n",
              "      <th>西藏自治区</th>\n",
              "      <th>陕西省</th>\n",
              "      <th>甘肃省</th>\n",
              "      <th>青海省</th>\n",
              "      <th>宁夏回族自治区</th>\n",
              "      <th>新疆维吾尔自治区</th>\n",
              "    </tr>\n",
              "  </thead>\n",
              "  <tbody>\n",
              "    <tr>\n",
              "      <th>0</th>\n",
              "      <td>0</td>\n",
              "      <td>人口</td>\n",
              "      <td>人口出生率、死亡率和自然增长率</td>\n",
              "      <td>人口出生率(‰)</td>\n",
              "      <td>人口出生率(‰)</td>\n",
              "      <td>2019</td>\n",
              "      <td>8.12</td>\n",
              "      <td>6.73</td>\n",
              "      <td>10.83</td>\n",
              "      <td>9.12</td>\n",
              "      <td>8.23</td>\n",
              "      <td>6.45</td>\n",
              "      <td>6.05</td>\n",
              "      <td>5.73</td>\n",
              "      <td>7.00</td>\n",
              "      <td>9.12</td>\n",
              "      <td>10.51</td>\n",
              "      <td>12.03</td>\n",
              "      <td>12.9</td>\n",
              "      <td>12.59</td>\n",
              "      <td>11.77</td>\n",
              "      <td>11.02</td>\n",
              "      <td>11.35</td>\n",
              "      <td>10.39</td>\n",
              "      <td>12.54</td>\n",
              "      <td>13.31</td>\n",
              "      <td>12.87</td>\n",
              "      <td>10.48</td>\n",
              "      <td>10.70</td>\n",
              "      <td>13.65</td>\n",
              "      <td>12.63</td>\n",
              "      <td>14.60</td>\n",
              "      <td>10.55</td>\n",
              "      <td>10.60</td>\n",
              "      <td>13.66</td>\n",
              "      <td>13.72</td>\n",
              "      <td>8.14</td>\n",
              "    </tr>\n",
              "    <tr>\n",
              "      <th>1</th>\n",
              "      <td>1</td>\n",
              "      <td>人口</td>\n",
              "      <td>人口出生率、死亡率和自然增长率</td>\n",
              "      <td>人口出生率(‰)</td>\n",
              "      <td>人口出生率(‰)</td>\n",
              "      <td>2018</td>\n",
              "      <td>8.24</td>\n",
              "      <td>6.67</td>\n",
              "      <td>11.26</td>\n",
              "      <td>9.63</td>\n",
              "      <td>8.35</td>\n",
              "      <td>6.39</td>\n",
              "      <td>6.62</td>\n",
              "      <td>5.98</td>\n",
              "      <td>7.20</td>\n",
              "      <td>9.32</td>\n",
              "      <td>11.02</td>\n",
              "      <td>12.41</td>\n",
              "      <td>13.2</td>\n",
              "      <td>13.43</td>\n",
              "      <td>13.26</td>\n",
              "      <td>11.72</td>\n",
              "      <td>11.54</td>\n",
              "      <td>12.19</td>\n",
              "      <td>12.79</td>\n",
              "      <td>14.12</td>\n",
              "      <td>14.48</td>\n",
              "      <td>11.02</td>\n",
              "      <td>11.05</td>\n",
              "      <td>13.90</td>\n",
              "      <td>13.19</td>\n",
              "      <td>15.22</td>\n",
              "      <td>10.67</td>\n",
              "      <td>11.07</td>\n",
              "      <td>14.31</td>\n",
              "      <td>13.32</td>\n",
              "      <td>10.69</td>\n",
              "    </tr>\n",
              "    <tr>\n",
              "      <th>2</th>\n",
              "      <td>2</td>\n",
              "      <td>人口</td>\n",
              "      <td>人口出生率、死亡率和自然增长率</td>\n",
              "      <td>人口出生率(‰)</td>\n",
              "      <td>人口出生率(‰)</td>\n",
              "      <td>2017</td>\n",
              "      <td>9.06</td>\n",
              "      <td>7.65</td>\n",
              "      <td>13.20</td>\n",
              "      <td>11.06</td>\n",
              "      <td>9.47</td>\n",
              "      <td>6.49</td>\n",
              "      <td>6.76</td>\n",
              "      <td>6.22</td>\n",
              "      <td>8.10</td>\n",
              "      <td>9.71</td>\n",
              "      <td>11.92</td>\n",
              "      <td>14.07</td>\n",
              "      <td>15.0</td>\n",
              "      <td>13.79</td>\n",
              "      <td>17.54</td>\n",
              "      <td>12.95</td>\n",
              "      <td>12.60</td>\n",
              "      <td>13.27</td>\n",
              "      <td>13.68</td>\n",
              "      <td>15.14</td>\n",
              "      <td>14.73</td>\n",
              "      <td>11.18</td>\n",
              "      <td>11.26</td>\n",
              "      <td>13.98</td>\n",
              "      <td>13.53</td>\n",
              "      <td>16.00</td>\n",
              "      <td>11.11</td>\n",
              "      <td>12.54</td>\n",
              "      <td>14.42</td>\n",
              "      <td>13.44</td>\n",
              "      <td>15.88</td>\n",
              "    </tr>\n",
              "    <tr>\n",
              "      <th>3</th>\n",
              "      <td>3</td>\n",
              "      <td>人口</td>\n",
              "      <td>人口出生率、死亡率和自然增长率</td>\n",
              "      <td>人口出生率(‰)</td>\n",
              "      <td>人口出生率(‰)</td>\n",
              "      <td>2016</td>\n",
              "      <td>9.32</td>\n",
              "      <td>7.37</td>\n",
              "      <td>12.42</td>\n",
              "      <td>10.29</td>\n",
              "      <td>9.03</td>\n",
              "      <td>6.60</td>\n",
              "      <td>5.55</td>\n",
              "      <td>6.12</td>\n",
              "      <td>9.00</td>\n",
              "      <td>9.76</td>\n",
              "      <td>11.22</td>\n",
              "      <td>13.02</td>\n",
              "      <td>14.5</td>\n",
              "      <td>13.45</td>\n",
              "      <td>17.89</td>\n",
              "      <td>13.26</td>\n",
              "      <td>12.04</td>\n",
              "      <td>13.57</td>\n",
              "      <td>11.85</td>\n",
              "      <td>13.82</td>\n",
              "      <td>14.57</td>\n",
              "      <td>11.77</td>\n",
              "      <td>10.48</td>\n",
              "      <td>13.43</td>\n",
              "      <td>13.16</td>\n",
              "      <td>15.79</td>\n",
              "      <td>10.64</td>\n",
              "      <td>12.18</td>\n",
              "      <td>14.70</td>\n",
              "      <td>13.69</td>\n",
              "      <td>15.34</td>\n",
              "    </tr>\n",
              "    <tr>\n",
              "      <th>4</th>\n",
              "      <td>4</td>\n",
              "      <td>人口</td>\n",
              "      <td>人口出生率、死亡率和自然增长率</td>\n",
              "      <td>人口出生率(‰)</td>\n",
              "      <td>人口出生率(‰)</td>\n",
              "      <td>2015</td>\n",
              "      <td>7.96</td>\n",
              "      <td>5.84</td>\n",
              "      <td>11.35</td>\n",
              "      <td>9.98</td>\n",
              "      <td>7.72</td>\n",
              "      <td>6.17</td>\n",
              "      <td>5.87</td>\n",
              "      <td>6.00</td>\n",
              "      <td>7.52</td>\n",
              "      <td>9.05</td>\n",
              "      <td>10.52</td>\n",
              "      <td>12.92</td>\n",
              "      <td>13.9</td>\n",
              "      <td>13.20</td>\n",
              "      <td>12.55</td>\n",
              "      <td>12.70</td>\n",
              "      <td>10.74</td>\n",
              "      <td>13.58</td>\n",
              "      <td>11.12</td>\n",
              "      <td>14.05</td>\n",
              "      <td>14.57</td>\n",
              "      <td>11.05</td>\n",
              "      <td>10.30</td>\n",
              "      <td>13.00</td>\n",
              "      <td>12.88</td>\n",
              "      <td>15.75</td>\n",
              "      <td>10.10</td>\n",
              "      <td>12.36</td>\n",
              "      <td>14.72</td>\n",
              "      <td>12.62</td>\n",
              "      <td>15.59</td>\n",
              "    </tr>\n",
              "  </tbody>\n",
              "</table>\n",
              "</div>"
            ],
            "text/plain": [
              "   uid lv1              lv2       lv3  ...    甘肃省    青海省  宁夏回族自治区  新疆维吾尔自治区\n",
              "0    0  人口  人口出生率、死亡率和自然增长率  人口出生率(‰)  ...  10.60  13.66    13.72      8.14\n",
              "1    1  人口  人口出生率、死亡率和自然增长率  人口出生率(‰)  ...  11.07  14.31    13.32     10.69\n",
              "2    2  人口  人口出生率、死亡率和自然增长率  人口出生率(‰)  ...  12.54  14.42    13.44     15.88\n",
              "3    3  人口  人口出生率、死亡率和自然增长率  人口出生率(‰)  ...  12.18  14.70    13.69     15.34\n",
              "4    4  人口  人口出生率、死亡率和自然增长率  人口出生率(‰)  ...  12.36  14.72    12.62     15.59\n",
              "\n",
              "[5 rows x 37 columns]"
            ]
          },
          "metadata": {
            "tags": []
          },
          "execution_count": 18
        }
      ]
    },
    {
      "cell_type": "code",
      "metadata": {
        "id": "lmj7dwlyccMz"
      },
      "source": [
        "# Data overview"
      ],
      "execution_count": null,
      "outputs": []
    },
    {
      "cell_type": "markdown",
      "metadata": {
        "id": "FY4oAqqrZo97"
      },
      "source": [
        "Reorgnize datasets"
      ]
    },
    {
      "cell_type": "code",
      "metadata": {
        "id": "icSz_x_2YW_0"
      },
      "source": [
        "# Add missing areas"
      ],
      "execution_count": null,
      "outputs": []
    },
    {
      "cell_type": "code",
      "metadata": {
        "id": "1Oioh2tkaNAk"
      },
      "source": [
        "# Add missing columns"
      ],
      "execution_count": null,
      "outputs": []
    },
    {
      "cell_type": "markdown",
      "metadata": {
        "id": "EB7_DBdkdRYL"
      },
      "source": [
        "## Data overview visualization"
      ]
    },
    {
      "cell_type": "markdown",
      "metadata": {
        "id": "Zcz3gM30dU2T"
      },
      "source": [
        "#### Histogram "
      ]
    },
    {
      "cell_type": "markdown",
      "metadata": {
        "id": "GbEUYo70dcSv"
      },
      "source": [
        "#### Pie charts"
      ]
    },
    {
      "cell_type": "markdown",
      "metadata": {
        "id": "8EURQoieal1L"
      },
      "source": [
        "## Interactive visualizations"
      ]
    },
    {
      "cell_type": "markdown",
      "metadata": {
        "id": "fzTmogiea3ki"
      },
      "source": [
        "### Scatter plots"
      ]
    },
    {
      "cell_type": "markdown",
      "metadata": {
        "id": "F0tDK3zYbN8C"
      },
      "source": [
        "#### Two variables scatter plot (with linear regression line)"
      ]
    },
    {
      "cell_type": "markdown",
      "metadata": {
        "id": "YYN228BVclGD"
      },
      "source": [
        "Data pre-processing"
      ]
    },
    {
      "cell_type": "markdown",
      "metadata": {
        "id": "9uP4lypFcpkL"
      },
      "source": [
        "Visualization"
      ]
    },
    {
      "cell_type": "markdown",
      "metadata": {
        "id": "WHoS7qplb4qz"
      },
      "source": [
        "#### Three variables scatter plot (with linear regression line)"
      ]
    },
    {
      "cell_type": "markdown",
      "metadata": {
        "id": "0i7-oL42csMM"
      },
      "source": [
        "Data preprocessing"
      ]
    },
    {
      "cell_type": "markdown",
      "metadata": {
        "id": "30BjRbV0cuAz"
      },
      "source": [
        "Visualization"
      ]
    },
    {
      "cell_type": "markdown",
      "metadata": {
        "id": "Sb2xuZcQbXsj"
      },
      "source": [
        "#### Four variables scatter plot (with linear regression line)"
      ]
    },
    {
      "cell_type": "markdown",
      "metadata": {
        "id": "dVwShBV1cweL"
      },
      "source": [
        "Data pre-processing"
      ]
    },
    {
      "cell_type": "markdown",
      "metadata": {
        "id": "7YuW2wzWcy5j"
      },
      "source": [
        "Visualization"
      ]
    },
    {
      "cell_type": "markdown",
      "metadata": {
        "id": "8xnS9l5qdg98"
      },
      "source": [
        "#### 3-D plots"
      ]
    },
    {
      "cell_type": "markdown",
      "metadata": {
        "id": "qsK7u-d7dk3z"
      },
      "source": [
        "Data pre-processing "
      ]
    },
    {
      "cell_type": "markdown",
      "metadata": {
        "id": "FbFKEMyMdn5L"
      },
      "source": [
        "Visualization"
      ]
    },
    {
      "cell_type": "markdown",
      "metadata": {
        "id": "6BmbUKnpa6Pm"
      },
      "source": [
        "### Maps"
      ]
    },
    {
      "cell_type": "markdown",
      "metadata": {
        "id": "vXYEGT1-a-0q"
      },
      "source": [
        "#### One variable map"
      ]
    },
    {
      "cell_type": "markdown",
      "metadata": {
        "id": "hpY3lEWOc7Nj"
      },
      "source": [
        "#### Two variables map"
      ]
    },
    {
      "cell_type": "markdown",
      "metadata": {
        "id": "-e2Dfir_c_7r"
      },
      "source": [
        "#### Map with plots"
      ]
    },
    {
      "cell_type": "code",
      "metadata": {
        "id": "1q6j2Gspa84M"
      },
      "source": [
        ""
      ],
      "execution_count": null,
      "outputs": []
    }
  ]
}